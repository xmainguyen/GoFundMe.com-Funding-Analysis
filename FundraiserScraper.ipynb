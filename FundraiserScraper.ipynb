{
 "cells": [
  {
   "cell_type": "code",
   "execution_count": 2,
   "metadata": {},
   "outputs": [],
   "source": [
    "import time\n",
    "import random\n",
    "import pandas as pd\n",
    "from bs4 import BeautifulSoup as bs\n",
    "from selenium import webdriver\n",
    "from selenium.webdriver.chrome.options import Options\n",
    "from selenium.webdriver.common.by import By\n",
    "from selenium.webdriver.support.wait import WebDriverWait\n",
    "from selenium.webdriver.support import expected_conditions as EC"
   ]
  },
  {
   "cell_type": "code",
   "execution_count": 6,
   "metadata": {},
   "outputs": [],
   "source": [
    "data=pd.read_csv(\"GoFundMe_urls.csv\")"
   ]
  },
  {
   "cell_type": "code",
   "execution_count": 18,
   "metadata": {},
   "outputs": [],
   "source": [
    "urls=list(data[\"GoFundMe\"][813:])"
   ]
  },
  {
   "cell_type": "code",
   "execution_count": 369,
   "metadata": {},
   "outputs": [
    {
     "data": {
      "text/plain": [
       "['https://www.gofundme.com/f/Please-Support-Our-Hold-Fast-Family',\n",
       " 'https://www.gofundme.com/f/help-beth-be-free-from-america',\n",
       " 'https://www.gofundme.com/f/22x9jhofao',\n",
       " 'https://www.gofundme.com/f/Marthasdaughter',\n",
       " 'https://www.gofundme.com/f/in-the-love-and-memory-of-brandon',\n",
       " 'https://www.gofundme.com/f/cream-city-skatepark-greatest-place-on-earth',\n",
       " 'https://www.gofundme.com/f/fashion-transformation-fund',\n",
       " 'https://www.gofundme.com/f/fund-for-sharon-sala',\n",
       " 'https://www.gofundme.com/f/ms-88-loves-dave-paris',\n",
       " 'https://www.gofundme.com/f/save-the-ball-soccer-for-africa',\n",
       " 'https://www.gofundme.com/f/xfx6j-michael039s-mission',\n",
       " 'https://www.gofundme.com/f/karma039s-love',\n",
       " 'https://www.gofundme.com/f/make-her-wish-come-true-delaney039s-disney-trip',\n",
       " 'https://www.gofundme.com/f/dustin-to-the-super-bowl-2020']"
      ]
     },
     "execution_count": 369,
     "metadata": {},
     "output_type": "execute_result"
    }
   ],
   "source": [
    "urls[800:814]"
   ]
  },
  {
   "cell_type": "code",
   "execution_count": 301,
   "metadata": {},
   "outputs": [],
   "source": [
    "Names=[]\n",
    "Date=[]\n",
    "Tags=[]\n",
    "GoalAmount=[]\n",
    "AmountRaised=[]\n",
    "Donors=[]\n",
    "Shares=[]\n",
    "Followers=[]\n",
    "Text=[]"
   ]
  },
  {
   "cell_type": "code",
   "execution_count": 370,
   "metadata": {},
   "outputs": [],
   "source": [
    "\n",
    "path=\"chromedriver.exe\"\n",
    "chrome_options = Options()\n",
    "#chrome_options.add_argument('--headless')\n",
    "chrome_options.add_argument('--no-sandbox')\n",
    "chrome_options.add_argument('--disable-dev-shm-usage')\n",
    "\n",
    "driver = webdriver.Chrome('chromedriver.exe', options = chrome_options)\n",
    "driver.quit() # Close the browser\n",
    "\n",
    "for url in urls[0:814]:\n",
    "    \n",
    "    driver = webdriver.Chrome(path)\n",
    "    driver.get(url)\n",
    "\n",
    "    #time.sleep(3)\n",
    "    html = driver.page_source # Get the html of the page\n",
    "    driver.quit()\n",
    "    \n",
    "    content=bs(html,'html.parser')\n",
    "    \n",
    "    title=content.find(\"h1\",class_=\"a-campaign-title\")\n",
    "    if not title:\n",
    "        continue\n",
    "    else:\n",
    "        Names.append(title.getText())\n",
    "     \n",
    "    Date.append(content.find(\"span\",class_=\"m-campaign-byline-created a-created-date\").getText())\n",
    "    \n",
    "    Tags.append(content.find(\"a\",class_=\"m-campaign-byline-type divider-prefix meta-divider flex-container align-middle color-dark-gray a-link--unstyled a-link\").getText())\n",
    "    \n",
    "    GoalAmount.append(content.find(\"h2\",class_=\"m-progress-meter-heading\").getText()[0:8])\n",
    "    \n",
    "    AmountRaised.append(content.find(\"span\",class_=\"text-stat text-stat-title\").getText()[10:19])\n",
    "    \n",
    "    stat=content.find_all(\"span\",class_=\"text-stat-value\")\n",
    "    testlist=[]\n",
    "    for item in stat:\n",
    "        testlist.append(item.getText())\n",
    "        \n",
    "    if len(testlist) < 3 :\n",
    "        Donors.append('0')\n",
    "        Shares.append('0')\n",
    "        Followers.append('0')\n",
    "    else:\n",
    "        Donors.append(testlist[0])\n",
    "        Shares.append(testlist[1])\n",
    "        Followers.append(testlist[2])\n",
    "        \n",
    "    description=content.find(\"div\",class_=\"o-campaign-story\")\n",
    "    if not description :\n",
    "        Text.append(\"None\")\n",
    "    else:\n",
    "        Text.append(description.getText())"
   ]
  },
  {
   "cell_type": "code",
   "execution_count": 373,
   "metadata": {},
   "outputs": [
    {
     "data": {
      "text/plain": [
       "808"
      ]
     },
     "execution_count": 373,
     "metadata": {},
     "output_type": "execute_result"
    }
   ],
   "source": [
    "len(Date)"
   ]
  },
  {
   "cell_type": "code",
   "execution_count": 418,
   "metadata": {},
   "outputs": [],
   "source": [
    "GoalAmount1=[]\n",
    "for i in range(0,len(GoalAmount)):\n",
    "    if GoalAmount[i][-1]=='r':\n",
    "        GoalAmount1.append(GoalAmount[i][:-2])\n",
    "    else:\n",
    "        GoalAmount1.append(GoalAmount[i])"
   ]
  },
  {
   "cell_type": "code",
   "execution_count": 428,
   "metadata": {},
   "outputs": [],
   "source": [
    "AmountRaised1=[]\n",
    "for i in range(0,len(AmountRaised)):\n",
    "    if len (AmountRaised[i])==0:\n",
    "        AmountRaised1.append('0')\n",
    "    elif AmountRaised[i][-1]=='g' or 'o':\n",
    "        AmountRaised1.append(AmountRaised[i][:-2])\n",
    "    else:\n",
    "        AmountRaised1.append(AmountRaised[i])"
   ]
  },
  {
   "cell_type": "code",
   "execution_count": 433,
   "metadata": {},
   "outputs": [],
   "source": [
    "Text1=[]\n",
    "for i in range(0,len(Text)):\n",
    "    Text1.append(Text[i].replace('\\n',''))"
   ]
  },
  {
   "cell_type": "code",
   "execution_count": 434,
   "metadata": {},
   "outputs": [],
   "source": [
    "textdata=pd.DataFrame({'Names':Names, 'Date': Date,'Tags':Tags,\n",
    "                      'GoalAmount':GoalAmount1, 'AmountRaised': AmountRaised1,'Donors':Donors,\n",
    "                      'Shares':Shares, 'Followers': Followers,'Text':Text1})"
   ]
  },
  {
   "cell_type": "code",
   "execution_count": 435,
   "metadata": {},
   "outputs": [],
   "source": [
    "textdata.to_csv('Scrape Fundraisers1-1.csv')"
   ]
  },
  {
   "cell_type": "code",
   "execution_count": null,
   "metadata": {},
   "outputs": [],
   "source": []
  }
 ],
 "metadata": {
  "kernelspec": {
   "display_name": "Python 3",
   "language": "python",
   "name": "python3"
  },
  "language_info": {
   "codemirror_mode": {
    "name": "ipython",
    "version": 3
   },
   "file_extension": ".py",
   "mimetype": "text/x-python",
   "name": "python",
   "nbconvert_exporter": "python",
   "pygments_lexer": "ipython3",
   "version": "3.7.6"
  }
 },
 "nbformat": 4,
 "nbformat_minor": 4
}
