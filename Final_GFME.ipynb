{
 "cells": [
  {
   "cell_type": "code",
   "execution_count": 3,
   "metadata": {},
   "outputs": [
    {
     "name": "stdout",
     "output_type": "stream",
     "text": [
      "Succesful click\n"
     ]
    }
   ],
   "source": [
    "from bs4 import BeautifulSoup\n",
    "from selenium import webdriver\n",
    "from time import sleep\n",
    "import numpy as np\n",
    "import pandas as pd\n",
    "\n",
    "url = 'https://www.gofundme.com/discover'\n",
    "driver = webdriver.Safari(executable_path = '/usr/bin/safaridriver') \n",
    "driver.get(url)\n",
    "for elem in driver.find_elements_by_link_text('Show all categories'):\n",
    "        try:\n",
    "            elem.click()\n",
    "            print('Succesful click')\n",
    "        except:\n",
    "            print('Unsuccesful click')\n",
    "            \n",
    "source = driver.page_source\n",
    "\n",
    "driver.close()\n",
    "\n",
    "soup = BeautifulSoup(source, 'html.parser')\n",
    "\n",
    "cate = soup.findAll(\"div\", {\"class\": \"section-categories grid-x small-up-2 medium-up-3 large-up-6\"})\n",
    "categories = cate[0].text \n",
    "categories = categories.splitlines()\n",
    "categories = list(filter(None, categories))\n",
    "\n",
    "more_cates = soup.findAll(\"div\", {\"class\": \"section-categories grid-x small-up-2 medium-up-3 large-up-6 js-more-categories\"})\n",
    "more_cats = more_cates[0].text\n",
    "more_cats = more_cats.splitlines()\n",
    "more_cats = list(filter(None, more_cats))\n",
    "\n",
    "all_cats = categories + more_cats \n",
    "\n",
    "new_urls = list(map(lambda x:'https://www.gofundme.com/discover/{}-fundraiser'.format(x.lower()), all_cats))"
   ]
  },
  {
   "cell_type": "code",
   "execution_count": 4,
   "metadata": {},
   "outputs": [
    {
     "data": {
      "text/plain": [
       "['https://www.gofundme.com/discover/medical-fundraiser',\n",
       " 'https://www.gofundme.com/discover/memorial-fundraiser',\n",
       " 'https://www.gofundme.com/discover/emergency-fundraiser',\n",
       " 'https://www.gofundme.com/discover/nonprofit-fundraiser',\n",
       " 'https://www.gofundme.com/discover/education-fundraiser',\n",
       " 'https://www.gofundme.com/discover/animals-fundraiser',\n",
       " 'https://www.gofundme.com/discover/environment-fundraiser',\n",
       " 'https://www.gofundme.com/discover/business-fundraiser',\n",
       " 'https://www.gofundme.com/discover/community-fundraiser',\n",
       " 'https://www.gofundme.com/discover/competition-fundraiser',\n",
       " 'https://www.gofundme.com/discover/creative-fundraiser',\n",
       " 'https://www.gofundme.com/discover/event-fundraiser',\n",
       " 'https://www.gofundme.com/discover/faith-fundraiser',\n",
       " 'https://www.gofundme.com/discover/family-fundraiser',\n",
       " 'https://www.gofundme.com/discover/sports-fundraiser',\n",
       " 'https://www.gofundme.com/discover/travel-fundraiser',\n",
       " 'https://www.gofundme.com/discover/volunteer-fundraiser',\n",
       " 'https://www.gofundme.com/discover/wishes-fundraiser']"
      ]
     },
     "execution_count": 4,
     "metadata": {},
     "output_type": "execute_result"
    }
   ],
   "source": [
    "new_urls"
   ]
  },
  {
   "cell_type": "code",
   "execution_count": 34,
   "metadata": {},
   "outputs": [
    {
     "name": "stdout",
     "output_type": "stream",
     "text": [
      "Succesful click 1\n",
      "Succesful click 2\n",
      "Succesful click 3\n",
      "Succesful click 4\n",
      "Succesful click 5\n",
      "Succesful click 6\n",
      "Succesful click 7\n",
      "Succesful click 8\n"
     ]
    }
   ],
   "source": [
    "#medical\n",
    "url = 'https://www.gofundme.com/discover/medical-fundraiser'\n",
    "driver = webdriver.Safari(executable_path = '/usr/bin/safaridriver') \n",
    "driver.get(url)\n",
    "for i in range(8):\n",
    "    for elem in driver.find_elements_by_link_text('Show More'):\n",
    "        try:\n",
    "            elem.click()\n",
    "            print('Succesful click %s' %(i+1))\n",
    "        except:\n",
    "            print('Unsuccesful click %s' %(i+1))\n",
    "        sleep(3)\n",
    "            \n",
    "source = driver.page_source\n",
    "        \n",
    "driver.close()\n",
    "    \n",
    "soup = BeautifulSoup(source, 'lxml')\n",
    "    \n",
    "containers = soup.findAll(\"div\", {\"class\": \"cell grid-item small-6 medium-4 js-fund-tile\"})\n",
    "temp_url = {}\n",
    "    \n",
    "i = 1\n",
    "    \n",
    "for container in containers:\n",
    "    for link in container.find_all('a'):\n",
    "        temp_url[link.get('href')] = i\n",
    "        i = i + 1 \n",
    "\n",
    "temp_url = {k: ((v // 2) - 1) // 3  for k, v in temp_url.items()}\n",
    "    \n",
    "    \n",
    "new = list(temp_url.keys())"
   ]
  },
  {
   "cell_type": "code",
   "execution_count": 35,
   "metadata": {},
   "outputs": [
    {
     "name": "stdout",
     "output_type": "stream",
     "text": [
      "Succesful click 1\n",
      "Succesful click 2\n",
      "Succesful click 3\n",
      "Succesful click 4\n",
      "Succesful click 5\n",
      "Succesful click 6\n",
      "Succesful click 7\n",
      "Succesful click 8\n"
     ]
    }
   ],
   "source": [
    "#memorial\n",
    "url = 'https://www.gofundme.com/discover/memorial-fundraiser'\n",
    "driver = webdriver.Safari(executable_path = '/usr/bin/safaridriver') \n",
    "driver.get(url)\n",
    "for i in range(8):\n",
    "    for elem in driver.find_elements_by_link_text('Show More'):\n",
    "        try:\n",
    "            elem.click()\n",
    "            print('Succesful click %s' %(i+1))\n",
    "        except:\n",
    "            print('Unsuccesful click %s' %(i+1))\n",
    "        sleep(3)\n",
    "            \n",
    "source = driver.page_source\n",
    "        \n",
    "driver.close()\n",
    "    \n",
    "soup = BeautifulSoup(source, 'lxml')\n",
    "    \n",
    "containers = soup.findAll(\"div\", {\"class\": \"cell grid-item small-6 medium-4 js-fund-tile\"})\n",
    "temp_url_1 = {}\n",
    "    \n",
    "i = 1\n",
    "    \n",
    "for container in containers:\n",
    "    for link in container.find_all('a'):\n",
    "        temp_url_1[link.get('href')] = i\n",
    "        i = i + 1 \n",
    "\n",
    "temp_url_1 = {k: ((v // 2) - 1) // 3  for k, v in temp_url_1.items()}\n",
    "    \n",
    "    \n",
    "new1 = list(temp_url_1.keys())"
   ]
  },
  {
   "cell_type": "code",
   "execution_count": 38,
   "metadata": {},
   "outputs": [
    {
     "name": "stdout",
     "output_type": "stream",
     "text": [
      "Succesful click 1\n",
      "Succesful click 2\n",
      "Succesful click 3\n",
      "Succesful click 4\n",
      "Succesful click 5\n",
      "Succesful click 6\n",
      "Succesful click 7\n",
      "Succesful click 8\n"
     ]
    }
   ],
   "source": [
    "#emergency\n",
    "url = 'https://www.gofundme.com/discover/emergency-fundraiser'\n",
    "driver = webdriver.Safari(executable_path = '/usr/bin/safaridriver') \n",
    "driver.get(url)\n",
    "for i in range(8):\n",
    "    for elem in driver.find_elements_by_link_text('Show More'):\n",
    "        try:\n",
    "            elem.click()\n",
    "            print('Succesful click %s' %(i+1))\n",
    "        except:\n",
    "            print('Unsuccesful click %s' %(i+1))\n",
    "        sleep(3)\n",
    "            \n",
    "source = driver.page_source\n",
    "        \n",
    "driver.close()\n",
    "    \n",
    "soup = BeautifulSoup(source, 'lxml')\n",
    "    \n",
    "containers = soup.findAll(\"div\", {\"class\": \"cell grid-item small-6 medium-4 js-fund-tile\"})\n",
    "temp_url_2 = {}\n",
    "    \n",
    "i = 1\n",
    "    \n",
    "for container in containers:\n",
    "    for link in container.find_all('a'):\n",
    "        temp_url_2[link.get('href')] = i\n",
    "        i = i + 1 \n",
    "\n",
    "temp_url_2 = {k: ((v // 2) - 1) // 3  for k, v in temp_url_2.items()}\n",
    "    \n",
    "    \n",
    "new2 = list(temp_url_2.keys())"
   ]
  },
  {
   "cell_type": "code",
   "execution_count": 41,
   "metadata": {},
   "outputs": [],
   "source": [
    "#nonprofit\n",
    "url = 'https://www.gofundme.com/discover/nonprofit-fundraiser'\n",
    "driver = webdriver.Safari(executable_path = '/usr/bin/safaridriver') \n",
    "driver.get(url)\n",
    "for i in range(8):\n",
    "    for elem in driver.find_elements_by_link_text('Show More'):\n",
    "        try:\n",
    "            elem.click()\n",
    "            print('Succesful click %s' %(i+1))\n",
    "        except:\n",
    "            print('Unsuccesful click %s' %(i+1))\n",
    "        sleep(3)\n",
    "            \n",
    "source = driver.page_source\n",
    "        \n",
    "driver.close()\n",
    "    \n",
    "soup = BeautifulSoup(source, 'lxml')\n",
    "    \n",
    "containers = soup.findAll(\"div\", {\"class\": \"cell grid-item small-6 medium-4 js-fund-tile\"})\n",
    "temp_url_3 = {}\n",
    "    \n",
    "i = 1\n",
    "    \n",
    "for container in containers:\n",
    "    for link in container.find_all('a'):\n",
    "        temp_url_3[link.get('href')] = i\n",
    "        i = i + 1 \n",
    "\n",
    "temp_url_3 = {k: ((v // 2) - 1) // 3  for k, v in temp_url_3.items()}\n",
    "    \n",
    "    \n",
    "new3 = list(temp_url_3.keys())"
   ]
  },
  {
   "cell_type": "code",
   "execution_count": 43,
   "metadata": {},
   "outputs": [
    {
     "name": "stdout",
     "output_type": "stream",
     "text": [
      "Succesful click 1\n",
      "Succesful click 2\n",
      "Succesful click 3\n",
      "Succesful click 4\n",
      "Succesful click 5\n",
      "Succesful click 6\n",
      "Succesful click 7\n",
      "Succesful click 8\n"
     ]
    }
   ],
   "source": [
    "#education\n",
    "url = 'https://www.gofundme.com/discover/education-fundraiser'\n",
    "driver = webdriver.Safari(executable_path = '/usr/bin/safaridriver') \n",
    "driver.get(url)\n",
    "for i in range(8):\n",
    "    for elem in driver.find_elements_by_link_text('Show More'):\n",
    "        try:\n",
    "            elem.click()\n",
    "            print('Succesful click %s' %(i+1))\n",
    "        except:\n",
    "            print('Unsuccesful click %s' %(i+1))\n",
    "        sleep(3)\n",
    "            \n",
    "source = driver.page_source\n",
    "        \n",
    "driver.close()\n",
    "    \n",
    "soup = BeautifulSoup(source, 'lxml')\n",
    "    \n",
    "containers = soup.findAll(\"div\", {\"class\": \"cell grid-item small-6 medium-4 js-fund-tile\"})\n",
    "temp_url_4 = {}\n",
    "    \n",
    "i = 1\n",
    "    \n",
    "for container in containers:\n",
    "    for link in container.find_all('a'):\n",
    "        temp_url_4[link.get('href')] = i\n",
    "        i = i + 1 \n",
    "\n",
    "temp_url_4 = {k: ((v // 2) - 1) // 3  for k, v in temp_url_4.items()}\n",
    "    \n",
    "    \n",
    "new4 = list(temp_url_4.keys())"
   ]
  },
  {
   "cell_type": "code",
   "execution_count": 45,
   "metadata": {},
   "outputs": [],
   "source": [
    "#animals\n",
    "url = 'https://www.gofundme.com/discover/animals-fundraiser'\n",
    "driver = webdriver.Safari(executable_path = '/usr/bin/safaridriver') \n",
    "driver.get(url)\n",
    "for i in range(8):\n",
    "    for elem in driver.find_elements_by_link_text('Show More'):\n",
    "        try:\n",
    "            elem.click()\n",
    "            print('Succesful click %s' %(i+1))\n",
    "        except:\n",
    "            print('Unsuccesful click %s' %(i+1))\n",
    "        sleep(3)\n",
    "            \n",
    "source = driver.page_source\n",
    "        \n",
    "driver.close()\n",
    "    \n",
    "soup = BeautifulSoup(source, 'lxml')\n",
    "    \n",
    "containers = soup.findAll(\"div\", {\"class\": \"cell grid-item small-6 medium-4 js-fund-tile\"})\n",
    "temp_url_5 = {}\n",
    "    \n",
    "i = 1\n",
    "    \n",
    "for container in containers:\n",
    "    for link in container.find_all('a'):\n",
    "        temp_url_5[link.get('href')] = i\n",
    "        i = i + 1 \n",
    "\n",
    "temp_url_5 = {k: ((v // 2) - 1) // 3  for k, v in temp_url_5.items()}\n",
    "    \n",
    "    \n",
    "new5 = list(temp_url_5.keys())"
   ]
  },
  {
   "cell_type": "code",
   "execution_count": 46,
   "metadata": {},
   "outputs": [
    {
     "name": "stdout",
     "output_type": "stream",
     "text": [
      "Succesful click 1\n",
      "Succesful click 2\n",
      "Succesful click 3\n",
      "Succesful click 4\n",
      "Succesful click 5\n",
      "Succesful click 6\n",
      "Succesful click 7\n",
      "Succesful click 8\n"
     ]
    }
   ],
   "source": [
    "#environment\n",
    "url = 'https://www.gofundme.com/discover/environment-fundraiser'\n",
    "driver = webdriver.Safari(executable_path = '/usr/bin/safaridriver') \n",
    "driver.get(url)\n",
    "for i in range(8):\n",
    "    for elem in driver.find_elements_by_link_text('Show More'):\n",
    "        try:\n",
    "            elem.click()\n",
    "            print('Succesful click %s' %(i+1))\n",
    "        except:\n",
    "            print('Unsuccesful click %s' %(i+1))\n",
    "        sleep(3)\n",
    "            \n",
    "source = driver.page_source\n",
    "        \n",
    "driver.close()\n",
    "    \n",
    "soup = BeautifulSoup(source, 'lxml')\n",
    "    \n",
    "containers = soup.findAll(\"div\", {\"class\": \"cell grid-item small-6 medium-4 js-fund-tile\"})\n",
    "temp_url_6 = {}\n",
    "    \n",
    "i = 1\n",
    "    \n",
    "for container in containers:\n",
    "    for link in container.find_all('a'):\n",
    "        temp_url_6[link.get('href')] = i\n",
    "        i = i + 1 \n",
    "\n",
    "temp_url_6 = {k: ((v // 2) - 1) // 3  for k, v in temp_url_6.items()}\n",
    "    \n",
    "    \n",
    "new6 = list(temp_url_6.keys())"
   ]
  },
  {
   "cell_type": "code",
   "execution_count": null,
   "metadata": {},
   "outputs": [],
   "source": [
    "'https://www.gofundme.com/discover/travel-fundraiser',\n",
    " 'https://www.gofundme.com/discover/volunteer-fundraiser',\n",
    " 'https://www.gofundme.com/discover/wishes-fundraiser']"
   ]
  },
  {
   "cell_type": "code",
   "execution_count": 47,
   "metadata": {},
   "outputs": [
    {
     "name": "stdout",
     "output_type": "stream",
     "text": [
      "Succesful click 1\n",
      "Succesful click 2\n",
      "Succesful click 3\n",
      "Succesful click 4\n",
      "Succesful click 5\n",
      "Succesful click 6\n",
      "Succesful click 7\n",
      "Succesful click 8\n"
     ]
    }
   ],
   "source": [
    "#business\n",
    "url = 'https://www.gofundme.com/discover/business-fundraiser'\n",
    "driver = webdriver.Safari(executable_path = '/usr/bin/safaridriver') \n",
    "driver.get(url)\n",
    "for i in range(8):\n",
    "    for elem in driver.find_elements_by_link_text('Show More'):\n",
    "        try:\n",
    "            elem.click()\n",
    "            print('Succesful click %s' %(i+1))\n",
    "        except:\n",
    "            print('Unsuccesful click %s' %(i+1))\n",
    "        sleep(3)\n",
    "            \n",
    "source = driver.page_source\n",
    "        \n",
    "driver.close()\n",
    "    \n",
    "soup = BeautifulSoup(source, 'lxml')\n",
    "    \n",
    "containers = soup.findAll(\"div\", {\"class\": \"cell grid-item small-6 medium-4 js-fund-tile\"})\n",
    "temp_url_7 = {}\n",
    "    \n",
    "i = 1\n",
    "    \n",
    "for container in containers:\n",
    "    for link in container.find_all('a'):\n",
    "        temp_url_7[link.get('href')] = i\n",
    "        i = i + 1 \n",
    "\n",
    "temp_url_7 = {k: ((v // 2) - 1) // 3  for k, v in temp_url_7.items()}\n",
    "    \n",
    "    \n",
    "new7 = list(temp_url_7.keys())"
   ]
  },
  {
   "cell_type": "code",
   "execution_count": 49,
   "metadata": {},
   "outputs": [
    {
     "name": "stdout",
     "output_type": "stream",
     "text": [
      "Succesful click 1\n",
      "Succesful click 2\n",
      "Succesful click 3\n",
      "Succesful click 4\n",
      "Succesful click 5\n",
      "Succesful click 6\n",
      "Succesful click 7\n",
      "Succesful click 8\n"
     ]
    }
   ],
   "source": [
    "#community\n",
    "url = 'https://www.gofundme.com/discover/community-fundraiser'\n",
    "driver = webdriver.Safari(executable_path = '/usr/bin/safaridriver') \n",
    "driver.get(url)\n",
    "for i in range(8):\n",
    "    for elem in driver.find_elements_by_link_text('Show More'):\n",
    "        try:\n",
    "            elem.click()\n",
    "            print('Succesful click %s' %(i+1))\n",
    "        except:\n",
    "            print('Unsuccesful click %s' %(i+1))\n",
    "        sleep(3)\n",
    "            \n",
    "source = driver.page_source\n",
    "        \n",
    "driver.close()\n",
    "    \n",
    "soup = BeautifulSoup(source, 'lxml')\n",
    "    \n",
    "containers = soup.findAll(\"div\", {\"class\": \"cell grid-item small-6 medium-4 js-fund-tile\"})\n",
    "temp_url_8 = {}\n",
    "    \n",
    "i = 1\n",
    "    \n",
    "for container in containers:\n",
    "    for link in container.find_all('a'):\n",
    "        temp_url_8[link.get('href')] = i\n",
    "        i = i + 1 \n",
    "\n",
    "temp_url_8 = {k: ((v // 2) - 1) // 3  for k, v in temp_url_8.items()}\n",
    "    \n",
    "    \n",
    "new8 = list(temp_url_8.keys())"
   ]
  },
  {
   "cell_type": "code",
   "execution_count": 50,
   "metadata": {},
   "outputs": [
    {
     "name": "stdout",
     "output_type": "stream",
     "text": [
      "Succesful click 1\n",
      "Succesful click 2\n",
      "Succesful click 3\n",
      "Succesful click 4\n",
      "Succesful click 5\n",
      "Succesful click 6\n",
      "Succesful click 7\n",
      "Succesful click 8\n"
     ]
    }
   ],
   "source": [
    "#competition\n",
    "url = 'https://www.gofundme.com/discover/competition-fundraiser'\n",
    "driver = webdriver.Safari(executable_path = '/usr/bin/safaridriver') \n",
    "driver.get(url)\n",
    "for i in range(8):\n",
    "    for elem in driver.find_elements_by_link_text('Show More'):\n",
    "        try:\n",
    "            elem.click()\n",
    "            print('Succesful click %s' %(i+1))\n",
    "        except:\n",
    "            print('Unsuccesful click %s' %(i+1))\n",
    "        sleep(3)\n",
    "            \n",
    "source = driver.page_source\n",
    "        \n",
    "driver.close()\n",
    "    \n",
    "soup = BeautifulSoup(source, 'lxml')\n",
    "    \n",
    "containers = soup.findAll(\"div\", {\"class\": \"cell grid-item small-6 medium-4 js-fund-tile\"})\n",
    "temp_url_9 = {}\n",
    "    \n",
    "i = 1\n",
    "    \n",
    "for container in containers:\n",
    "    for link in container.find_all('a'):\n",
    "        temp_url_9[link.get('href')] = i\n",
    "        i = i + 1 \n",
    "\n",
    "temp_url_9 = {k: ((v // 2) - 1) // 3  for k, v in temp_url_9.items()}\n",
    "    \n",
    "    \n",
    "new9 = list(temp_url_9.keys())"
   ]
  },
  {
   "cell_type": "code",
   "execution_count": 51,
   "metadata": {},
   "outputs": [
    {
     "name": "stdout",
     "output_type": "stream",
     "text": [
      "Succesful click 1\n",
      "Succesful click 2\n",
      "Succesful click 3\n",
      "Succesful click 4\n",
      "Succesful click 5\n",
      "Succesful click 6\n",
      "Succesful click 7\n",
      "Succesful click 8\n"
     ]
    }
   ],
   "source": [
    "#creative\n",
    "url = 'https://www.gofundme.com/discover/creative-fundraiser'\n",
    "driver = webdriver.Safari(executable_path = '/usr/bin/safaridriver') \n",
    "driver.get(url)\n",
    "for i in range(8):\n",
    "    for elem in driver.find_elements_by_link_text('Show More'):\n",
    "        try:\n",
    "            elem.click()\n",
    "            print('Succesful click %s' %(i+1))\n",
    "        except:\n",
    "            print('Unsuccesful click %s' %(i+1))\n",
    "        sleep(3)\n",
    "            \n",
    "source = driver.page_source\n",
    "        \n",
    "driver.close()\n",
    "    \n",
    "soup = BeautifulSoup(source, 'lxml')\n",
    "    \n",
    "containers = soup.findAll(\"div\", {\"class\": \"cell grid-item small-6 medium-4 js-fund-tile\"})\n",
    "temp_url_10 = {}\n",
    "    \n",
    "i = 1\n",
    "    \n",
    "for container in containers:\n",
    "    for link in container.find_all('a'):\n",
    "        temp_url_10[link.get('href')] = i\n",
    "        i = i + 1 \n",
    "\n",
    "temp_url_10 = {k: ((v // 2) - 1) // 3  for k, v in temp_url_10.items()}\n",
    "    \n",
    "    \n",
    "new10 = list(temp_url_10.keys())"
   ]
  },
  {
   "cell_type": "code",
   "execution_count": 52,
   "metadata": {},
   "outputs": [
    {
     "name": "stdout",
     "output_type": "stream",
     "text": [
      "Succesful click 1\n",
      "Succesful click 2\n",
      "Succesful click 3\n",
      "Succesful click 4\n",
      "Succesful click 5\n",
      "Succesful click 6\n",
      "Succesful click 7\n",
      "Succesful click 8\n"
     ]
    }
   ],
   "source": [
    "#event\n",
    "url = 'https://www.gofundme.com/discover/event-fundraiser'\n",
    "driver = webdriver.Safari(executable_path = '/usr/bin/safaridriver') \n",
    "driver.get(url)\n",
    "for i in range(8):\n",
    "    for elem in driver.find_elements_by_link_text('Show More'):\n",
    "        try:\n",
    "            elem.click()\n",
    "            print('Succesful click %s' %(i+1))\n",
    "        except:\n",
    "            print('Unsuccesful click %s' %(i+1))\n",
    "        sleep(3)\n",
    "            \n",
    "source = driver.page_source\n",
    "        \n",
    "driver.close()\n",
    "    \n",
    "soup = BeautifulSoup(source, 'lxml')\n",
    "    \n",
    "containers = soup.findAll(\"div\", {\"class\": \"cell grid-item small-6 medium-4 js-fund-tile\"})\n",
    "temp_url_11 = {}\n",
    "    \n",
    "i = 1\n",
    "    \n",
    "for container in containers:\n",
    "    for link in container.find_all('a'):\n",
    "        temp_url_11[link.get('href')] = i\n",
    "        i = i + 1 \n",
    "\n",
    "temp_url_11 = {k: ((v // 2) - 1) // 3  for k, v in temp_url_11.items()}\n",
    "    \n",
    "    \n",
    "new11 = list(temp_url_11.keys())"
   ]
  },
  {
   "cell_type": "code",
   "execution_count": null,
   "metadata": {},
   "outputs": [],
   "source": []
  },
  {
   "cell_type": "code",
   "execution_count": 53,
   "metadata": {},
   "outputs": [
    {
     "name": "stdout",
     "output_type": "stream",
     "text": [
      "Succesful click 1\n",
      "Succesful click 2\n",
      "Succesful click 3\n",
      "Succesful click 4\n",
      "Succesful click 5\n",
      "Succesful click 6\n",
      "Succesful click 7\n",
      "Succesful click 8\n"
     ]
    }
   ],
   "source": [
    "#faith\n",
    "url = 'https://www.gofundme.com/discover/faith-fundraiser'\n",
    "driver = webdriver.Safari(executable_path = '/usr/bin/safaridriver') \n",
    "driver.get(url)\n",
    "for i in range(8):\n",
    "    for elem in driver.find_elements_by_link_text('Show More'):\n",
    "        try:\n",
    "            elem.click()\n",
    "            print('Succesful click %s' %(i+1))\n",
    "        except:\n",
    "            print('Unsuccesful click %s' %(i+1))\n",
    "        sleep(3)\n",
    "            \n",
    "source = driver.page_source\n",
    "        \n",
    "driver.close()\n",
    "    \n",
    "soup = BeautifulSoup(source, 'lxml')\n",
    "    \n",
    "containers = soup.findAll(\"div\", {\"class\": \"cell grid-item small-6 medium-4 js-fund-tile\"})\n",
    "temp_url_12 = {}\n",
    "    \n",
    "i = 1\n",
    "    \n",
    "for container in containers:\n",
    "    for link in container.find_all('a'):\n",
    "        temp_url_12[link.get('href')] = i\n",
    "        i = i + 1 \n",
    "\n",
    "temp_url_12 = {k: ((v // 2) - 1) // 3  for k, v in temp_url_12.items()}\n",
    "    \n",
    "    \n",
    "new12 = list(temp_url_12.keys())"
   ]
  },
  {
   "cell_type": "code",
   "execution_count": 54,
   "metadata": {},
   "outputs": [
    {
     "name": "stdout",
     "output_type": "stream",
     "text": [
      "Succesful click 1\n",
      "Succesful click 2\n",
      "Succesful click 3\n",
      "Succesful click 4\n",
      "Succesful click 5\n",
      "Succesful click 6\n",
      "Succesful click 7\n",
      "Succesful click 8\n"
     ]
    }
   ],
   "source": [
    "#family\n",
    "url = 'https://www.gofundme.com/discover/family-fundraiser'\n",
    "driver = webdriver.Safari(executable_path = '/usr/bin/safaridriver') \n",
    "driver.get(url)\n",
    "for i in range(8):\n",
    "    for elem in driver.find_elements_by_link_text('Show More'):\n",
    "        try:\n",
    "            elem.click()\n",
    "            print('Succesful click %s' %(i+1))\n",
    "        except:\n",
    "            print('Unsuccesful click %s' %(i+1))\n",
    "        sleep(3)\n",
    "            \n",
    "source = driver.page_source\n",
    "        \n",
    "driver.close()\n",
    "    \n",
    "soup = BeautifulSoup(source, 'lxml')\n",
    "    \n",
    "containers = soup.findAll(\"div\", {\"class\": \"cell grid-item small-6 medium-4 js-fund-tile\"})\n",
    "temp_url_13 = {}\n",
    "    \n",
    "i = 1\n",
    "    \n",
    "for container in containers:\n",
    "    for link in container.find_all('a'):\n",
    "        temp_url_13[link.get('href')] = i\n",
    "        i = i + 1 \n",
    "\n",
    "temp_url_13 = {k: ((v // 2) - 1) // 3  for k, v in temp_url_13.items()}\n",
    "    \n",
    "    \n",
    "new13 = list(temp_url_13.keys())"
   ]
  },
  {
   "cell_type": "code",
   "execution_count": 58,
   "metadata": {},
   "outputs": [
    {
     "name": "stdout",
     "output_type": "stream",
     "text": [
      "Succesful click 1\n",
      "Succesful click 2\n",
      "Succesful click 3\n",
      "Succesful click 4\n",
      "Succesful click 5\n",
      "Succesful click 6\n",
      "Succesful click 7\n",
      "Succesful click 8\n"
     ]
    }
   ],
   "source": [
    "#sports\n",
    "url = 'https://www.gofundme.com/discover/sports-fundraiser'\n",
    "driver = webdriver.Safari(executable_path = '/usr/bin/safaridriver') \n",
    "driver.get(url)\n",
    "for i in range(8):\n",
    "    for elem in driver.find_elements_by_link_text('Show More'):\n",
    "        try:\n",
    "            elem.click()\n",
    "            print('Succesful click %s' %(i+1))\n",
    "        except:\n",
    "            print('Unsuccesful click %s' %(i+1))\n",
    "        sleep(3)\n",
    "            \n",
    "source = driver.page_source\n",
    "        \n",
    "driver.close()\n",
    "    \n",
    "soup = BeautifulSoup(source, 'lxml')\n",
    "    \n",
    "containers = soup.findAll(\"div\", {\"class\": \"cell grid-item small-6 medium-4 js-fund-tile\"})\n",
    "temp_url_14 = {}\n",
    "    \n",
    "i = 1\n",
    "    \n",
    "for container in containers:\n",
    "    for link in container.find_all('a'):\n",
    "        temp_url_14[link.get('href')] = i\n",
    "        i = i + 1 \n",
    "\n",
    "temp_url_14 = {k: ((v // 2) - 1) // 3  for k, v in temp_url_14.items()}\n",
    "    \n",
    "    \n",
    "new14 = list(temp_url_14.keys())"
   ]
  },
  {
   "cell_type": "code",
   "execution_count": 57,
   "metadata": {},
   "outputs": [
    {
     "name": "stdout",
     "output_type": "stream",
     "text": [
      "Succesful click 1\n",
      "Succesful click 2\n",
      "Succesful click 3\n",
      "Succesful click 4\n",
      "Succesful click 5\n",
      "Succesful click 6\n",
      "Succesful click 7\n",
      "Succesful click 8\n"
     ]
    }
   ],
   "source": [
    "#travel\n",
    "url = 'https://www.gofundme.com/discover/travel-fundraiser'\n",
    "driver = webdriver.Safari(executable_path = '/usr/bin/safaridriver') \n",
    "driver.get(url)\n",
    "for i in range(8):\n",
    "    for elem in driver.find_elements_by_link_text('Show More'):\n",
    "        try:\n",
    "            elem.click()\n",
    "            print('Succesful click %s' %(i+1))\n",
    "        except:\n",
    "            print('Unsuccesful click %s' %(i+1))\n",
    "        sleep(3)\n",
    "            \n",
    "source = driver.page_source\n",
    "        \n",
    "driver.close()\n",
    "    \n",
    "soup = BeautifulSoup(source, 'lxml')\n",
    "    \n",
    "containers = soup.findAll(\"div\", {\"class\": \"cell grid-item small-6 medium-4 js-fund-tile\"})\n",
    "temp_url_15 = {}\n",
    "    \n",
    "i = 1\n",
    "    \n",
    "for container in containers:\n",
    "    for link in container.find_all('a'):\n",
    "        temp_url_15[link.get('href')] = i\n",
    "        i = i + 1 \n",
    "\n",
    "temp_url_15 = {k: ((v // 2) - 1) // 3  for k, v in temp_url_15.items()}\n",
    "    \n",
    "    \n",
    "new15 = list(temp_url_15.keys())"
   ]
  },
  {
   "cell_type": "code",
   "execution_count": 59,
   "metadata": {},
   "outputs": [
    {
     "name": "stdout",
     "output_type": "stream",
     "text": [
      "Succesful click 1\n",
      "Succesful click 2\n",
      "Succesful click 3\n",
      "Succesful click 4\n",
      "Succesful click 5\n",
      "Succesful click 6\n",
      "Succesful click 7\n",
      "Succesful click 8\n"
     ]
    }
   ],
   "source": [
    "#volunteer\n",
    "url = 'https://www.gofundme.com/discover/volunteer-fundraiser'\n",
    "driver = webdriver.Safari(executable_path = '/usr/bin/safaridriver') \n",
    "driver.get(url)\n",
    "for i in range(8):\n",
    "    for elem in driver.find_elements_by_link_text('Show More'):\n",
    "        try:\n",
    "            elem.click()\n",
    "            print('Succesful click %s' %(i+1))\n",
    "        except:\n",
    "            print('Unsuccesful click %s' %(i+1))\n",
    "        sleep(3)\n",
    "            \n",
    "source = driver.page_source\n",
    "        \n",
    "driver.close()\n",
    "    \n",
    "soup = BeautifulSoup(source, 'lxml')\n",
    "    \n",
    "containers = soup.findAll(\"div\", {\"class\": \"cell grid-item small-6 medium-4 js-fund-tile\"})\n",
    "temp_url_16 = {}\n",
    "    \n",
    "i = 1\n",
    "    \n",
    "for container in containers:\n",
    "    for link in container.find_all('a'):\n",
    "        temp_url_12[link.get('href')] = i\n",
    "        i = i + 1 \n",
    "\n",
    "temp_url_16 = {k: ((v // 2) - 1) // 3  for k, v in temp_url_16.items()}\n",
    "    \n",
    "    \n",
    "new16 = list(temp_url_16.keys())"
   ]
  },
  {
   "cell_type": "code",
   "execution_count": 60,
   "metadata": {},
   "outputs": [
    {
     "name": "stdout",
     "output_type": "stream",
     "text": [
      "Succesful click 1\n",
      "Succesful click 2\n",
      "Succesful click 3\n",
      "Succesful click 4\n",
      "Succesful click 5\n",
      "Succesful click 6\n",
      "Succesful click 7\n",
      "Succesful click 8\n"
     ]
    }
   ],
   "source": [
    "#wishes\n",
    "url = 'https://www.gofundme.com/discover/wishes-fundraiser'\n",
    "driver = webdriver.Safari(executable_path = '/usr/bin/safaridriver') \n",
    "driver.get(url)\n",
    "for i in range(8):\n",
    "    for elem in driver.find_elements_by_link_text('Show More'):\n",
    "        try:\n",
    "            elem.click()\n",
    "            print('Succesful click %s' %(i+1))\n",
    "        except:\n",
    "            print('Unsuccesful click %s' %(i+1))\n",
    "        sleep(3)\n",
    "            \n",
    "source = driver.page_source\n",
    "        \n",
    "driver.close()\n",
    "    \n",
    "soup = BeautifulSoup(source, 'lxml')\n",
    "    \n",
    "containers = soup.findAll(\"div\", {\"class\": \"cell grid-item small-6 medium-4 js-fund-tile\"})\n",
    "temp_url_17 = {}\n",
    "    \n",
    "i = 1\n",
    "    \n",
    "for container in containers:\n",
    "    for link in container.find_all('a'):\n",
    "        temp_url_17[link.get('href')] = i\n",
    "        i = i + 1 \n",
    "\n",
    "temp_url_17 = {k: ((v // 2) - 1) // 3  for k, v in temp_url_17.items()}\n",
    "    \n",
    "    \n",
    "new17 = list(temp_url_17.keys())"
   ]
  },
  {
   "cell_type": "code",
   "execution_count": 61,
   "metadata": {},
   "outputs": [],
   "source": [
    "new.extend(new1)"
   ]
  },
  {
   "cell_type": "code",
   "execution_count": 64,
   "metadata": {},
   "outputs": [],
   "source": [
    "new.extend(new2)\n",
    "new.extend(new3)\n",
    "new.extend(new4)\n",
    "new.extend(new5)\n",
    "new.extend(new6)\n",
    "new.extend(new7)\n",
    "new.extend(new8)\n",
    "new.extend(new9)\n",
    "new.extend(new10)\n",
    "new.extend(new11)\n",
    "new.extend(new12)\n",
    "new.extend(new13)\n",
    "new.extend(new14)\n",
    "new.extend(new15)\n",
    "new.extend(new16)\n",
    "new.extend(new17)"
   ]
  },
  {
   "cell_type": "code",
   "execution_count": 65,
   "metadata": {},
   "outputs": [
    {
     "data": {
      "text/plain": [
       "3064"
      ]
     },
     "execution_count": 65,
     "metadata": {},
     "output_type": "execute_result"
    }
   ],
   "source": [
    "len(new)"
   ]
  },
  {
   "cell_type": "code",
   "execution_count": 66,
   "metadata": {},
   "outputs": [],
   "source": [
    "import pandas as pd\n",
    "d = {'GoFundMe':new}\n",
    "df = pd.DataFrame(d)\n",
    "df.to_csv(\"GoFundMe_urls.csv\", index = False)"
   ]
  },
  {
   "cell_type": "code",
   "execution_count": null,
   "metadata": {},
   "outputs": [],
   "source": []
  },
  {
   "cell_type": "code",
   "execution_count": null,
   "metadata": {},
   "outputs": [],
   "source": []
  },
  {
   "cell_type": "code",
   "execution_count": null,
   "metadata": {},
   "outputs": [],
   "source": []
  },
  {
   "cell_type": "code",
   "execution_count": null,
   "metadata": {},
   "outputs": [],
   "source": []
  },
  {
   "cell_type": "code",
   "execution_count": null,
   "metadata": {},
   "outputs": [],
   "source": []
  }
 ],
 "metadata": {
  "kernelspec": {
   "display_name": "Python 3",
   "language": "python",
   "name": "python3"
  },
  "language_info": {
   "codemirror_mode": {
    "name": "ipython",
    "version": 3
   },
   "file_extension": ".py",
   "mimetype": "text/x-python",
   "name": "python",
   "nbconvert_exporter": "python",
   "pygments_lexer": "ipython3",
   "version": "3.6.4"
  }
 },
 "nbformat": 4,
 "nbformat_minor": 2
}
